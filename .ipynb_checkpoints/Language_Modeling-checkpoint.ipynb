{
 "cells": [
  {
   "cell_type": "markdown",
   "id": "cultural-cuisine",
   "metadata": {},
   "source": [
    "**Name:** Sina <br> \n",
    "**Last name:** Heidari <br> \n",
    "**Student number:** 400464201 <br> \n",
    "**Course:** Natural Language Processing <br> "
   ]
  },
  {
   "cell_type": "markdown",
   "id": "verified-prayer",
   "metadata": {},
   "source": [
    "# Importing necessary libraries"
   ]
  },
  {
   "cell_type": "code",
   "execution_count": 258,
   "id": "going-statistics",
   "metadata": {},
   "outputs": [],
   "source": [
    "import string\n",
    "import sys\n",
    "import seaborn as sns\n",
    "import matplotlib.pyplot as plt\n",
    "import numpy as np\n",
    "%matplotlib inline"
   ]
  },
  {
   "cell_type": "markdown",
   "id": "existing-astronomy",
   "metadata": {},
   "source": [
    "# Counting bigrams"
   ]
  },
  {
   "cell_type": "code",
   "execution_count": 259,
   "id": "devoted-softball",
   "metadata": {},
   "outputs": [],
   "source": [
    "def count_bigrams(filecontents):\n",
    "    bigrams = {}\n",
    "    unigrams = {}\n",
    "    words_punct = filecontents.split()\n",
    "    # strip all punctuation at the beginning and end of words, and\n",
    "    # convert all words to lowercase.\n",
    "    # The following is a Python list comprehension. It is a command that transforms a list,\n",
    "    # here words_punct, into another list.\n",
    "    words = [ w.strip(string.punctuation).lower() for w in words_punct ]\n",
    "\n",
    "    # add special START, END tokens\n",
    "    words = [\"START\"] + words + [\"END\"]\n",
    "\n",
    "    for index, word in enumerate(words):\n",
    "        if index < len(words) - 1:\n",
    "            # we only look at indices up to the\n",
    "            # next-to-last word, as this is\n",
    "            # the last one at which a bigram starts\n",
    "            w1 = words[index]\n",
    "            w2 = words[index + 1]\n",
    "            # bigram is a tuple,\n",
    "            # like a list, but fixed.\n",
    "            # Tuples can be keys in a dictionary\n",
    "            bigram = (w1, w2)\n",
    "\n",
    "            if bigram in bigrams:\n",
    "                bigrams[ bigram ] = bigrams[ bigram ] + 1\n",
    "            else:\n",
    "                bigrams[ bigram ] = 1\n",
    "            # or, more simply, like this:\n",
    "            # bigrams[bigram] = bigrams.get(bigram, 0) + 1\n",
    "    return bigrams"
   ]
  },
  {
   "cell_type": "code",
   "execution_count": 260,
   "id": "romantic-spider",
   "metadata": {},
   "outputs": [],
   "source": [
    "def count_unigrams(filecontents):\n",
    "    unigrams = {}\n",
    "    words_punct = filecontents.split()\n",
    "    # strip all punctuation at the beginning and end of words, and\n",
    "    # convert all words to lowercase.\n",
    "    # The following is a Python list comprehension. It is a command that transforms a list,\n",
    "    # here words_punct, into another list.\n",
    "    words = [ w.strip(string.punctuation).lower() for w in words_punct ]\n",
    "\n",
    "    # add special START, END tokens\n",
    "    words = [\"START\"] + words + [\"END\"]\n",
    "    \n",
    "    for word in words:\n",
    "        if word in unigrams:\n",
    "            unigrams[word] += 1\n",
    "        else:\n",
    "            unigrams[word] = 1\n",
    "    \n",
    "    return unigrams"
   ]
  },
  {
   "cell_type": "markdown",
   "id": "fiscal-sacramento",
   "metadata": {},
   "source": [
    "# Sorting bigrams"
   ]
  },
  {
   "cell_type": "code",
   "execution_count": 261,
   "id": "explicit-geneva",
   "metadata": {},
   "outputs": [],
   "source": [
    "# sort bigrams by their counts\n",
    "def sort_bigrams(bigrams, is_reverse=True):\n",
    "    # This is what you had provided, which returns a list\n",
    "    sorted_bigrams = sorted(bigrams.items(), key = lambda pair:pair[1], reverse = is_reverse)\n",
    "    # I changed it so it returns a dictionary.\n",
    "    sorted_bigrams = {k: v for k, v in sorted(bigrams.items(), key=lambda item: item[1], reverse = is_reverse)}\n",
    "    return sorted_bigrams"
   ]
  },
  {
   "cell_type": "code",
   "execution_count": 262,
   "id": "european-problem",
   "metadata": {},
   "outputs": [],
   "source": [
    "def sort_unigrams(unigrams):\n",
    "    sorted_unigrams = {k: v for k, v in sorted(unigrams.items(), key=lambda item: item[1], reverse = True)}\n",
    "    return sorted_unigrams"
   ]
  },
  {
   "cell_type": "code",
   "execution_count": 263,
   "id": "funded-ballet",
   "metadata": {},
   "outputs": [],
   "source": [
    "#input_file_name = input(\"Please enter the name of a corpus file as a input:\")\n",
    "# try opening file\n",
    "# If the file doesn't exist, catch the error\n",
    "try:\n",
    "    f = open('corpus.txt')\n",
    "except IOError:\n",
    "    print(\"Sorry, I could not find the file\", input_file_name)\n",
    "    print(\"Please try again.\")\n",
    "    sys.exit()\n",
    "\n",
    "# read the contents of the whole file into ''filecontents''\n",
    "filecontents = f.read()\n",
    "unigrams = count_unigrams(filecontents)\n",
    "sorted_unigrams = sort_unigrams(unigrams)\n",
    "bigrams = count_bigrams(filecontents)\n",
    "sorted_bigrams = sort_bigrams(bigrams)"
   ]
  },
  {
   "cell_type": "markdown",
   "id": "planned-speech",
   "metadata": {},
   "source": [
    "# Question 1"
   ]
  },
  {
   "cell_type": "markdown",
   "id": "improved-westminster",
   "metadata": {},
   "source": [
    "## a. Number of bigrams in the corpus"
   ]
  },
  {
   "cell_type": "code",
   "execution_count": 264,
   "id": "ultimate-theme",
   "metadata": {},
   "outputs": [
    {
     "name": "stdout",
     "output_type": "stream",
     "text": [
      "Number of bigrams: 26381\n"
     ]
    }
   ],
   "source": [
    "counter_bigrams = 0\n",
    "for bigram in bigrams:\n",
    "    counter_bigrams += bigrams[bigram]\n",
    "\n",
    "    \n",
    "print(f'Number of bigrams: {counter_bigrams}')"
   ]
  },
  {
   "cell_type": "markdown",
   "id": "amino-needle",
   "metadata": {},
   "source": [
    "## b. Top 20 most frequent bigrams in the corpus"
   ]
  },
  {
   "cell_type": "code",
   "execution_count": 265,
   "id": "offshore-atlantic",
   "metadata": {},
   "outputs": [
    {
     "data": {
      "text/plain": [
       "Text(0.5, 0, 'Frequency')"
      ]
     },
     "execution_count": 265,
     "metadata": {},
     "output_type": "execute_result"
    },
    {
     "data": {
      "image/png": "[encoded data removed]",
      "text/plain": [
       "<Figure size 1440x720 with 1 Axes>"
      ]
     },
     "metadata": {
      "needs_background": "light"
     },
     "output_type": "display_data"
    }
   ],
   "source": [
    "# Dictionary keys are our bigrams\n",
    "# Mr. Mahmoudi, the below list comprehension seperates bigrams by delimeter '-' for each bigram tuple \n",
    "# We use these hyphen seperated pairs as our index value\n",
    "keys = [key[0] + '-' + key[1] for key in sorted_bigrams.keys()]\n",
    "# Choose top 20 bigrams\n",
    "keys = keys[:20]\n",
    "# Dictionary values are our bigram frequencies\n",
    "frequencies = list(sorted_bigrams.values())\n",
    "# Choose top 20 frequencies\n",
    "frequencies = frequencies[:20]\n",
    "\n",
    "# Set plot size\n",
    "plt.figure(figsize=(20,10))\n",
    "# Set plot title\n",
    "plt.title(\"Top 20 most frequent bigrams in the corpus\")\n",
    "# Create a Seaborn barplot\n",
    "sns.barplot(x=keys, y=frequencies)\n",
    "\n",
    "# Add label for vertical and horizontal axis\n",
    "plt.ylabel(\"Frequency\")\n",
    "plt.xlabel(\"Frequency\")"
   ]
  },
  {
   "cell_type": "markdown",
   "id": "diverse-staff",
   "metadata": {},
   "source": [
    "## c. List of words followed by \"my\""
   ]
  },
  {
   "cell_type": "code",
   "execution_count": 266,
   "id": "earlier-headset",
   "metadata": {},
   "outputs": [
    {
     "name": "stdout",
     "output_type": "stream",
     "text": [
      "List of words followed by \"my\":\n",
      "['dear', 'ears', 'head', 'shoulders', 'going', 'poor', 'mind', 'own', 'history', 'dear?”', 'throat!”', 'dears', 'fur', 'gloves', 'size', 'right', 'way', 'youth,”', 'limbs', 'wife', 'jaw', 'life.”', 'head’s', 'time', 'plan', 'boy', 'dear,”', 'tail', 'life!”', 'elbow.”', 'hand', 'kitchen', 'arm', 'life', 'adventures—beginning', 'hair.”', 'tea', 'tea—not', 'tea,”', 'forehead', 'notion']\n"
     ]
    }
   ],
   "source": [
    "words_followed_by_my = []\n",
    "# For each bigram\n",
    "for bigram in bigrams:\n",
    "    # If the first element of bigram is my\n",
    "    if bigram[0] == \"my\":\n",
    "        # Append to the list\n",
    "        words_followed_by_my.append(bigram[1])\n",
    "print(f'List of words followed by \"my\":\\n{words_followed_by_my}')"
   ]
  },
  {
   "cell_type": "markdown",
   "id": "honey-transition",
   "metadata": {},
   "source": [
    "## d. Compute Maximum Likelihood Estimation-based probability distribution for “my"
   ]
  },
  {
   "cell_type": "code",
   "execution_count": 267,
   "id": "medium-prairie",
   "metadata": {},
   "outputs": [
    {
     "name": "stdout",
     "output_type": "stream",
     "text": [
      "-> The word \"my\" has occured 56 times in our corpus\n",
      "-> Our corpus contains 26380 words\n",
      "Maximum Likelihood Estimates (MLE): 0.0021228203184230476\n"
     ]
    }
   ],
   "source": [
    "# Counting number of times \"my\" has occured in the corpus\n",
    "my_count = 0\n",
    "words = filecontents.split()\n",
    "words = [ w.strip(string.punctuation).lower() for w in words ]\n",
    "for word in words:\n",
    "    if word == 'my':\n",
    "        my_count += 1\n",
    "        \n",
    "print(f'-> The word \"my\" has occured {my_count} times in our corpus')\n",
    "corpus_word_count = 0\n",
    "# Finding out number of words in the corpus\n",
    "for word in words:\n",
    "    corpus_word_count+=1\n",
    "    \n",
    "print(f'-> Our corpus contains {corpus_word_count} words')\n",
    "MLE = my_count / corpus_word_count\n",
    "print(f'Maximum Likelihood Estimates (MLE): {MLE}')"
   ]
  },
  {
   "cell_type": "markdown",
   "id": "passing-creativity",
   "metadata": {},
   "source": [
    "## e. Compute the probability of a pairs of part b"
   ]
  },
  {
   "cell_type": "code",
   "execution_count": 268,
   "id": "intelligent-watts",
   "metadata": {},
   "outputs": [
    {
     "name": "stdout",
     "output_type": "stream",
     "text": [
      "Top 20 bigrams and their corresponding MLE:\n",
      "('said', 'the'): 0.4551422319474836\n",
      "('of', 'the'): 0.25963488843813387\n",
      "('said', 'alice'): 0.24945295404814005\n",
      "('in', 'a'): 0.2747875354107649\n",
      "('in', 'the'): 0.2237960339943343\n",
      "('and', 'the'): 0.09783989834815757\n",
      "('to', 'the'): 0.09718309859154929\n",
      "('it', 'was'): 0.14349775784753363\n",
      "('as', 'she'): 0.24015748031496062\n",
      "('she', 'had'): 0.11278195488721804\n",
      "('at', 'the'): 0.2926829268292683\n",
      "('the', 'king'): 0.03731343283582089\n",
      "('the', 'queen'): 0.03669154228855721\n",
      "('a', 'little'): 0.0943089430894309\n",
      "('she', 'was'): 0.10338345864661654\n",
      "('mock', 'turtle'): 0.9642857142857143\n",
      "('the', 'mock'): 0.03296019900497513\n",
      "('the', 'gryphon'): 0.03296019900497513\n",
      "('and', 'she'): 0.06480304955527319\n",
      "('the', 'hatter'): 0.03171641791044776\n"
     ]
    }
   ],
   "source": [
    "# return a dict of top 20 bigrams\n",
    "top_20_bigram_counts = {k: sorted_bigrams_return[k] for k in list(sorted_bigrams_return)[:20]}\n",
    "bigram_probabilites = {}\n",
    "# compute probability of bigrams\n",
    "for bigram in top_20_bigrams:\n",
    "    # using MLE to compute bigram probabilities\n",
    "    bigram_probabilites[bigram] = top_20_bigram_counts[bigram] / unigrams[bigram[0]]\n",
    "\n",
    "print(f'Top 20 bigrams and their corresponding MLE:')\n",
    "for top_bigram in bigram_probabilites:\n",
    "    print(f'{top_bigram}: {bigram_probabilites[top_bigram]}')"
   ]
  },
  {
   "cell_type": "markdown",
   "id": "promising-astronomy",
   "metadata": {},
   "source": [
    "## f: compute probability of sentence \"how do you do\" using bigram model and use add-1 smoothing for zero cases. Add some more sentences for test."
   ]
  },
  {
   "cell_type": "markdown",
   "id": "inner-planning",
   "metadata": {},
   "source": [
    "### A function to compute probability of each bigram using below formula:\n",
    "![alt text](prob.png \"Title\")"
   ]
  },
  {
   "cell_type": "code",
   "execution_count": 269,
   "id": "bottom-examination",
   "metadata": {},
   "outputs": [],
   "source": [
    "def computeBigramProb(listOfBigrams, unigramCounts, bigramCounts):\n",
    "    listOfProb = {}\n",
    "    for bigram in listOfBigrams:\n",
    "        listOfProb[bigram] = (bigramCounts[bigram])/(unigramCounts[bigram[0]])\n",
    "    return listOfProb"
   ]
  },
  {
   "cell_type": "markdown",
   "id": "relative-nickel",
   "metadata": {},
   "source": [
    "#### Bigram model without Laplace smoothing"
   ]
  },
  {
   "cell_type": "code",
   "execution_count": 270,
   "id": "civic-drilling",
   "metadata": {},
   "outputs": [
    {
     "name": "stdout",
     "output_type": "stream",
     "text": [
      "Bigram Model:  5.875440658049354e-05\n"
     ]
    }
   ],
   "source": [
    "sentence = \"how do you do\"\n",
    "sentence_bigrams = list(count_bigrams(sentence))\n",
    "# Remove (START,how) and (do,END)\n",
    "del sentence_bigrams[-1]\n",
    "del sentence_bigrams[0]\n",
    "# compute probability for bigrams of this sentence\n",
    "this_sentence = computeBigramProb(sentence_bigrams, unigrams, bigrams)\n",
    "output_prob = 1\n",
    "# use chain rule to compute probability of sentence\n",
    "for bigram in this_sentence:\n",
    "    output_prob *= this_sentence[bigram]\n",
    "        \n",
    "print ('Bigram Model: ', output_prob)"
   ]
  },
  {
   "cell_type": "markdown",
   "id": "prospective-booth",
   "metadata": {},
   "source": [
    "### Smoothing: \n",
    "Taking a bit of probability mass from more frequent events and giving it to unseen events-sometimes also called \"discounting\".\n",
    "\n",
    "#### Laplace Smoothing\n",
    "Add one to all n-gram counts before they are normalized into probabilites. Not the highest-performing technique for language modeling, but a useful baseline. \n",
    "\n",
    "![alt text](laplace \"Title\")"
   ]
  },
  {
   "cell_type": "markdown",
   "id": "fleet-repository",
   "metadata": {},
   "source": [
    "#### Bigram model with Laplace smoothing"
   ]
  },
  {
   "cell_type": "code",
   "execution_count": 271,
   "id": "endless-secret",
   "metadata": {},
   "outputs": [],
   "source": [
    "new_bigram_probabilities = {}\n",
    "for bigram in sorted_bigrams:\n",
    "    new_bigram_probabilities[bigram] = (sorted_bigrams[bigram] + 1) / (sorted_unigrams[bigram[0]] + len(sorted_unigrams))"
   ]
  },
  {
   "cell_type": "code",
   "execution_count": 272,
   "id": "unusual-slope",
   "metadata": {},
   "outputs": [],
   "source": [
    "def compute_probability(bp, sentence = \"how do you do\",):\n",
    "    sentence_bigrams = list(count_bigrams(sentence))\n",
    "    # Remove (START,how) and (do,END)\n",
    "    del sentence_bigrams[-1]\n",
    "    del sentence_bigrams[0]\n",
    "    output_prob = 1\n",
    "    # use chain rule to compute probability of sentence\n",
    "    for bigram in sentence_bigrams:\n",
    "        output_prob *= bp[bigram]\n",
    "\n",
    "    print (f'Probability for \"{sentence}\": ', output_prob)"
   ]
  },
  {
   "cell_type": "code",
   "execution_count": 273,
   "id": "touched-folks",
   "metadata": {},
   "outputs": [
    {
     "name": "stdout",
     "output_type": "stream",
     "text": [
      "Probability for \"how do you do\":  2.289951489995099e-09\n"
     ]
    }
   ],
   "source": [
    "compute_probability(new_bigram_probabilities)"
   ]
  },
  {
   "cell_type": "code",
   "execution_count": 275,
   "id": "homeless-nigeria",
   "metadata": {},
   "outputs": [
    {
     "name": "stdout",
     "output_type": "stream",
     "text": [
      "Enter a sentence to compute it's probability: whether you’re nervous or not\n",
      "Probability for \"whether you’re nervous or not\":  2.7706009716224e-13\n"
     ]
    }
   ],
   "source": [
    "sentence = input(\"Enter a sentence to compute it's probability: \")\n",
    "compute_probability(new_bigram_probabilities, sentence)"
   ]
  },
  {
   "cell_type": "code",
   "execution_count": 278,
   "id": "combined-passenger",
   "metadata": {},
   "outputs": [
    {
     "name": "stdout",
     "output_type": "stream",
     "text": [
      "Enter a sentence to compute it's probability: above a week or so\n",
      "Probability for \"above a week or so\":  1.5960275621990297e-13\n"
     ]
    }
   ],
   "source": [
    "sentence = input(\"Enter a sentence to compute it's probability: \")\n",
    "compute_probability(new_bigram_probabilities, sentence)"
   ]
  },
  {
   "cell_type": "markdown",
   "id": "static-douglas",
   "metadata": {},
   "source": [
    "# Question 2:\n",
    "Optional: Implement good Turing smoothing and use it for smoothing."
   ]
  },
  {
   "cell_type": "code",
   "execution_count": 279,
   "id": "practical-booking",
   "metadata": {},
   "outputs": [
    {
     "name": "stdout",
     "output_type": "stream",
     "text": [
      "Total distinct words = 3711\n",
      "Possible word pairs = 13771521\n",
      "Seen distinct pairs = 15806\n",
      "Total seen pairs = 26381\n",
      "Unseen pairs = 13745140\n"
     ]
    }
   ],
   "source": [
    "total_distinct_words = len(unigrams)\n",
    "print(f'Total distinct words = {total_distinct_words}')\n",
    "possible_word_pairs = total_distinct_words * total_distinct_words\n",
    "print(f'Possible word pairs = {possible_word_pairs}')\n",
    "seen_distinct_pairs = len(bigrams)\n",
    "print(f'Seen distinct pairs = {seen_distinct_pairs}')\n",
    "total_seen_pairs = 0\n",
    "for bigram in bigrams:\n",
    "    total_seen_pairs += bigrams[bigram]\n",
    "print(f'Total seen pairs = {total_seen_pairs}')\n",
    "unseen_pairs = possible_word_pairs - total_seen_pairs\n",
    "print(f'Unseen pairs = {unseen_pairs}')"
   ]
  },
  {
   "cell_type": "code",
   "execution_count": 280,
   "id": "permanent-contractor",
   "metadata": {},
   "outputs": [
    {
     "name": "stdout",
     "output_type": "stream",
     "text": [
      "count of counts:  {0: 0, 1: 12609, 2: 1670, 3: 582, 4: 263, 5: 180, 6: 116, 7: 89, 8: 53, 9: 39, 10: 29, 11: 23, 12: 21, 13: 13, 14: 11, 15: 8, 16: 9, 17: 9, 18: 8, 19: 7, 20: 4, 21: 4, 22: 7, 23: 1, 24: 1, 25: 3, 26: 3, 27: 2, 28: 3, 29: 5, 31: 2, 32: 1, 33: 1, 34: 4, 36: 1, 37: 1, 39: 1, 45: 1, 48: 2, 51: 2, 53: 2, 54: 1, 55: 1, 58: 1, 59: 1, 60: 3, 61: 1, 64: 1, 69: 1, 77: 1, 79: 1, 97: 1, 114: 1, 128: 1, 208: 1}\n"
     ]
    }
   ],
   "source": [
    "counts = {}\n",
    "counts[0] = 0\n",
    "sorted_bigrams2 = sort_bigrams(bigrams, False)\n",
    "\n",
    "for bigram in sorted_bigrams2:\n",
    "    counts[sorted_bigrams2[bigram]] = 0\n",
    "\n",
    "# Finding count of counts\n",
    "for bigram in sorted_bigrams2:\n",
    "    if sorted_bigrams2[bigram] in counts:\n",
    "        counts[sorted_bigrams2[bigram]] += 1\n",
    "\n",
    "print('count of counts: ',counts)    "
   ]
  },
  {
   "cell_type": "markdown",
   "id": "adaptive-qualification",
   "metadata": {},
   "source": [
    "## Computing new counts:\n",
    "> ### $ C* = \\frac{(C+1)*N(C+1)}{Nc} $"
   ]
  },
  {
   "cell_type": "code",
   "execution_count": 283,
   "id": "ongoing-trace",
   "metadata": {},
   "outputs": [
    {
     "name": "stdout",
     "output_type": "stream",
     "text": [
      "New counts after good turing smoothing:\n",
      "{1: 0.2648901578237767, 2: 1.0455089820359282, 3: 1.8075601374570447, 4: 3.4220532319391634, 5: 3.8666666666666667, 6: 5.370689655172414, 7: 4.764044943820225, 8: 6.622641509433962, 9: 7.435897435897436, 10: 8.724137931034482, 11: 10.956521739130435, 12: 8.047619047619047, 13: 11.846153846153847, 14: 10.909090909090908, 15: 18.0, 16: 17.0, 17: 16.0, 18: 16.625, 19: 11.428571428571429, 20: 21.0, 21: 38.5, 22: 3.2857142857142856, 23: 24.0, 24: 75.0, 25: 26.0, 26: 18.0, 27: 42.0, 28: 48.333333333333336, 29: 12.4, 31: 16.0, 32: 33.0, 33: 136.0, 34: 9.0, 36: 37.0, 37: 39.0, 39: 45.0, 45: 96.0, 48: 51.0, 51: 53.0, 53: 27.0, 54: 55.0, 55: 58.0, 58: 59.0, 59: 180.0, 60: 20.333333333333332, 61: 64.0, 64: 69.0, 69: 77.0, 77: 79.0, 79: 97.0, 97: 114.0, 114: 128.0, 128: 208.0}\n"
     ]
    }
   ],
   "source": [
    "new_bigram_counts = {}\n",
    "count_list = list(counts)\n",
    "\n",
    "for i in range(len(count_list)-1):\n",
    "    if i == 0:\n",
    "        continue\n",
    "    new_bigram_counts[count_list[i]] = count_list[i+1] * counts[count_list[i+1]] / counts[count_list[i]]\n",
    "\n",
    "print(f'New counts after good turing smoothing:\\n{new_bigram_counts}')"
   ]
  },
  {
   "cell_type": "code",
   "execution_count": 286,
   "id": "bronze-divide",
   "metadata": {},
   "outputs": [],
   "source": [
    "SGT_bigram_probabilities = {}\n",
    "for bigram in sorted_bigrams:\n",
    "    if sorted_bigrams[bigram] == 208:\n",
    "        continue\n",
    "    SGT_bigram_probabilities[bigram] = new_bigram_counts[sorted_bigrams[bigram]] / sorted_unigrams[bigram[0]]"
   ]
  },
  {
   "cell_type": "code",
   "execution_count": 288,
   "id": "municipal-skirt",
   "metadata": {},
   "outputs": [
    {
     "name": "stdout",
     "output_type": "stream",
     "text": [
      "Probability for \"how do you do\":  8.929336710345695e-06\n"
     ]
    }
   ],
   "source": [
    "compute_probability(SGT_bigram_probabilities)"
   ]
  }
 ],
 "metadata": {
  "kernelspec": {
   "display_name": "Python 3",
   "language": "python",
   "name": "python3"
  },
  "language_info": {
   "codemirror_mode": {
    "name": "ipython",
    "version": 3
   },
   "file_extension": ".py",
   "mimetype": "text/x-python",
   "name": "python",
   "nbconvert_exporter": "python",
   "pygments_lexer": "ipython3",
   "version": "3.9.9"
  }
 },
 "nbformat": 4,
 "nbformat_minor": 5
}
